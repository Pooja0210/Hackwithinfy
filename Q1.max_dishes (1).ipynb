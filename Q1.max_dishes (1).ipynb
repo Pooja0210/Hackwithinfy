{
 "cells": [
  {
   "cell_type": "code",
   "execution_count": 1,
   "metadata": {},
   "outputs": [
    {
     "name": "stdout",
     "output_type": "stream",
     "text": [
      "3\n",
      "5\n",
      "1 2 2 1 2\n",
      "6\n",
      "1 1 1 1 1 1\n",
      "8\n",
      "1 2 2 2 3 4 2 1\n",
      "1\n",
      "1\n",
      "2\n"
     ]
    }
   ],
   "source": [
    "t = int(input())\n",
    "res = []\n",
    "for tc in range(t):\n",
    "    n = int(input())\n",
    "    items = list(map(int,input().split()))[:n]\n",
    "    i = 0\n",
    "    max = 0\n",
    "    itemType = items[0]\n",
    "    while i<n:\n",
    "        c = 1\n",
    "        j=i+1\n",
    "        while j<n:\n",
    "            if items[i]==items[j] and j!=i+1:\n",
    "                c+=1\n",
    "                if j<n-1 and items[j]==items[j+1]:\n",
    "                    j+=1\n",
    "            j+=1\n",
    "        if max<c:\n",
    "            max=c\n",
    "            itemType = items[i]\n",
    "        i+=1\n",
    "    res.append(itemType)\n",
    "for tc in range(t):\n",
    "    print(res[tc])"
   ]
  },
  {
   "cell_type": "code",
   "execution_count": null,
   "metadata": {},
   "outputs": [],
   "source": []
  }
 ],
 "metadata": {
  "kernelspec": {
   "display_name": "Python 3",
   "language": "python",
   "name": "python3"
  },
  "language_info": {
   "codemirror_mode": {
    "name": "ipython",
    "version": 3
   },
   "file_extension": ".py",
   "mimetype": "text/x-python",
   "name": "python",
   "nbconvert_exporter": "python",
   "pygments_lexer": "ipython3",
   "version": "3.7.1"
  }
 },
 "nbformat": 4,
 "nbformat_minor": 2
}
