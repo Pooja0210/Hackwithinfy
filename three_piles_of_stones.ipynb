{
 "cells": [
  {
   "cell_type": "code",
   "execution_count": 1,
   "metadata": {},
   "outputs": [
    {
     "name": "stdout",
     "output_type": "stream",
     "text": [
      "1\n",
      "1 2 3 4 2\n",
      "YES\n"
     ]
    }
   ],
   "source": [
    "def ispossible(a,b,c,x,y):\n",
    "    if (a+b+c) != (x + y):\n",
    "        return \"NO\"\n",
    "    elif (y < min(a, min(b,c))) or (x < min(a, min(b,c))):\n",
    "        return \"NO\"\n",
    "    return \"YES\"\n",
    "\n",
    "test = int(input())\n",
    "for i in range(test):\n",
    "    a,b,c,x,y = map(int,input().split())\n",
    "    result = ispossible(a,b,c,x,y)\n",
    "    print(result)"
   ]
  },
  {
   "cell_type": "code",
   "execution_count": 2,
   "metadata": {},
   "outputs": [
    {
     "name": "stdout",
     "output_type": "stream",
     "text": [
      "1\n",
      "1 2 3 4 2\n",
      "YES\n"
     ]
    }
   ],
   "source": [
    "'''\n",
    "return false if sum of a,b,c id not equal to x+y as sum of stones should be equal before and after shifting\n",
    "\n",
    "return false if minimun of a,b,c is greater than x or y \n",
    "in all other cases true can be returned\n",
    "'''\n",
    "#Test case\n",
    "t=int(input())\n",
    "# loop for each test case\n",
    "for tc in range(t):\n",
    "    \n",
    "    # int inputs in single line\n",
    "    a,b,c,x,y = [ int(x) for x in input().split() ]\n",
    "    \n",
    "    if (a+b+c) != (x+y):\n",
    "        print('NO')\n",
    "        \n",
    "    elif y< min (a, min(b,c)) or x<min(a,min(b,c)):\n",
    "        print('NO')\n",
    "        \n",
    "    else:\n",
    "        print('YES')"
   ]
  }
 ],
 "metadata": {
  "kernelspec": {
   "display_name": "Python 3",
   "language": "python",
   "name": "python3"
  },
  "language_info": {
   "codemirror_mode": {
    "name": "ipython",
    "version": 3
   },
   "file_extension": ".py",
   "mimetype": "text/x-python",
   "name": "python",
   "nbconvert_exporter": "python",
   "pygments_lexer": "ipython3",
   "version": "3.7.1"
  }
 },
 "nbformat": 4,
 "nbformat_minor": 2
}
